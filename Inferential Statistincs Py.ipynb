{
 "cells": [
  {
   "cell_type": "code",
   "execution_count": 1,
   "metadata": {},
   "outputs": [
    {
     "name": "stdout",
     "output_type": "stream",
     "text": [
      "\n",
      "Sample Data: [39 33 89 86 79 55 64 80 28 10 12 69 30 96 68 17 63 82 36 59 78 50 11 70\n",
      " 54 75 42 93 91 75 10 88 48 34 36 54 49 29 28 37 77 68 21 94 14 79 55 58\n",
      " 92 97 38 73 11 22 98 17 75 49 44 16 29 21 78 77 45 45 22 65 43 24 22 39\n",
      " 17 90 71 82 24 36 63 75 71 98 28 67 95 10 38 14 78 46 40 44 53 54 13 54\n",
      " 50 59 12 53]\n"
     ]
    }
   ],
   "source": [
    "import numpy as np\n",
    "import pandas as pd\n",
    "import scipy.stats as stats\n",
    "import matplotlib.pyplot as plt\n",
    "from sklearn.linear_model import LinearRegression\n",
    "\n",
    "# Generate a sample dataset with random data\n",
    "data = np.random.randint(10, 100, 100)\n",
    "print(\"\\nSample Data:\", data)\n"
   ]
  },
  {
   "cell_type": "code",
   "execution_count": 2,
   "metadata": {},
   "outputs": [
    {
     "data": {
      "image/png": "[encoded data removed]",
      "text/plain": [
       "<Figure size 432x288 with 1 Axes>"
      ]
     },
     "metadata": {
      "needs_background": "light"
     },
     "output_type": "display_data"
    }
   ],
   "source": [
    "\n",
    "plt.hist(data, bins=60, edgecolor='k', alpha=0.7)\n",
    "plt.title('Sample Data frequency distribution')\n",
    "plt.xlabel('Sample Data')\n",
    "plt.ylabel('Frequency')\n",
    "plt.show()"
   ]
  },
  {
   "cell_type": "code",
   "execution_count": null,
   "metadata": {},
   "outputs": [],
   "source": []
  },
  {
   "cell_type": "code",
   "execution_count": 4,
   "metadata": {},
   "outputs": [
    {
     "name": "stdout",
     "output_type": "stream",
     "text": [
      "\n",
      "Measures of Central Tendency:\n",
      "Mean: 51.9\n",
      "Median: 51.5\n",
      "Mode: 54 (Frequency: 4)\n"
     ]
    }
   ],
   "source": [
    "\n",
    "# -----------------------------------------\n",
    "# 1. Measures of Central Tendency\n",
    "# -----------------------------------------\n",
    "mean = np.mean(data)\n",
    "median = np.median(data)\n",
    "mode = stats.mode(data)\n",
    "print(\"\\nMeasures of Central Tendency:\")\n",
    "print(f\"Mean: {mean}\")\n",
    "print(f\"Median: {median}\")\n",
    "print(f\"Mode: {mode.mode[0]} (Frequency: {mode.count[0]})\")\n"
   ]
  },
  {
   "cell_type": "code",
   "execution_count": 5,
   "metadata": {},
   "outputs": [
    {
     "name": "stdout",
     "output_type": "stream",
     "text": [
      "\n",
      "Measures of Variability:\n",
      "Range: 88\n",
      "Variance: 682.77\n",
      "Standard Deviation: 26.12986796751947\n"
     ]
    }
   ],
   "source": [
    "\n",
    "# -----------------------------------------\n",
    "# 2. Measures of Variability\n",
    "# -----------------------------------------\n",
    "data_range = np.ptp(data)\n",
    "variance = np.var(data)\n",
    "std_dev = np.std(data)\n",
    "print(\"\\nMeasures of Variability:\")\n",
    "print(f\"Range: {data_range}\")\n",
    "print(f\"Variance: {variance}\")\n",
    "print(f\"Standard Deviation: {std_dev}\")\n"
   ]
  },
  {
   "cell_type": "code",
   "execution_count": 6,
   "metadata": {},
   "outputs": [
    {
     "name": "stdout",
     "output_type": "stream",
     "text": [
      "\n",
      "95% Confidence Interval for the Mean: (46.68914757832464, 57.110852421675354)\n"
     ]
    }
   ],
   "source": [
    "\n",
    "# -----------------------------------------\n",
    "# 3. Range Estimation\n",
    "# -----------------------------------------\n",
    "confidence_interval = stats.t.interval(0.95, len(data)-1, loc=mean, scale=stats.sem(data))\n",
    "print(\"\\n95% Confidence Interval for the Mean:\", confidence_interval)\n"
   ]
  },
  {
   "cell_type": "code",
   "execution_count": 7,
   "metadata": {},
   "outputs": [
    {
     "name": "stdout",
     "output_type": "stream",
     "text": [
      "\n",
      "Random Sample:\n"
     ]
    },
    {
     "data": {
      "text/html": [
       "<div>\n",
       "<style scoped>\n",
       "    .dataframe tbody tr th:only-of-type {\n",
       "        vertical-align: middle;\n",
       "    }\n",
       "\n",
       "    .dataframe tbody tr th {\n",
       "        vertical-align: top;\n",
       "    }\n",
       "\n",
       "    .dataframe thead th {\n",
       "        text-align: right;\n",
       "    }\n",
       "</style>\n",
       "<table border=\"1\" class=\"dataframe\">\n",
       "  <thead>\n",
       "    <tr style=\"text-align: right;\">\n",
       "      <th></th>\n",
       "      <th>Group</th>\n",
       "      <th>Value</th>\n",
       "    </tr>\n",
       "  </thead>\n",
       "  <tbody>\n",
       "    <tr>\n",
       "      <th>169</th>\n",
       "      <td>B</td>\n",
       "      <td>33</td>\n",
       "    </tr>\n",
       "    <tr>\n",
       "      <th>504</th>\n",
       "      <td>A</td>\n",
       "      <td>16</td>\n",
       "    </tr>\n",
       "    <tr>\n",
       "      <th>574</th>\n",
       "      <td>B</td>\n",
       "      <td>16</td>\n",
       "    </tr>\n",
       "    <tr>\n",
       "      <th>305</th>\n",
       "      <td>B</td>\n",
       "      <td>95</td>\n",
       "    </tr>\n",
       "    <tr>\n",
       "      <th>447</th>\n",
       "      <td>A</td>\n",
       "      <td>10</td>\n",
       "    </tr>\n",
       "  </tbody>\n",
       "</table>\n",
       "</div>"
      ],
      "text/plain": [
       "    Group  Value\n",
       "169     B     33\n",
       "504     A     16\n",
       "574     B     16\n",
       "305     B     95\n",
       "447     A     10"
      ]
     },
     "execution_count": 7,
     "metadata": {},
     "output_type": "execute_result"
    }
   ],
   "source": [
    "\n",
    "# -----------------------------------------\n",
    "# 4. Sampling Techniques\n",
    "# -----------------------------------------\n",
    "population = pd.DataFrame({\n",
    "    'Group': np.random.choice(['A', 'B', 'C'], size=1000),\n",
    "    'Value': np.random.randint(10, 100, 1000)\n",
    "})\n",
    "random_sample = population.sample(100)\n",
    "stratified_sample = population.groupby('Group').apply(lambda x: x.sample(20)).reset_index(drop=True)\n",
    "print(\"\\nRandom Sample:\")\n",
    "random_sample.head()\n"
   ]
  },
  {
   "cell_type": "code",
   "execution_count": 9,
   "metadata": {},
   "outputs": [
    {
     "data": {
      "text/plain": [
       "A    38\n",
       "C    35\n",
       "B    27\n",
       "Name: Group, dtype: int64"
      ]
     },
     "execution_count": 9,
     "metadata": {},
     "output_type": "execute_result"
    }
   ],
   "source": [
    "random_sample['Group'].value_counts()"
   ]
  },
  {
   "cell_type": "code",
   "execution_count": null,
   "metadata": {},
   "outputs": [],
   "source": []
  },
  {
   "cell_type": "code",
   "execution_count": 10,
   "metadata": {},
   "outputs": [
    {
     "name": "stdout",
     "output_type": "stream",
     "text": [
      "\n",
      "Stratified Sample:\n"
     ]
    },
    {
     "data": {
      "text/html": [
       "<div>\n",
       "<style scoped>\n",
       "    .dataframe tbody tr th:only-of-type {\n",
       "        vertical-align: middle;\n",
       "    }\n",
       "\n",
       "    .dataframe tbody tr th {\n",
       "        vertical-align: top;\n",
       "    }\n",
       "\n",
       "    .dataframe thead th {\n",
       "        text-align: right;\n",
       "    }\n",
       "</style>\n",
       "<table border=\"1\" class=\"dataframe\">\n",
       "  <thead>\n",
       "    <tr style=\"text-align: right;\">\n",
       "      <th></th>\n",
       "      <th>Group</th>\n",
       "      <th>Value</th>\n",
       "    </tr>\n",
       "  </thead>\n",
       "  <tbody>\n",
       "    <tr>\n",
       "      <th>0</th>\n",
       "      <td>A</td>\n",
       "      <td>37</td>\n",
       "    </tr>\n",
       "    <tr>\n",
       "      <th>1</th>\n",
       "      <td>A</td>\n",
       "      <td>24</td>\n",
       "    </tr>\n",
       "    <tr>\n",
       "      <th>2</th>\n",
       "      <td>A</td>\n",
       "      <td>90</td>\n",
       "    </tr>\n",
       "    <tr>\n",
       "      <th>3</th>\n",
       "      <td>A</td>\n",
       "      <td>27</td>\n",
       "    </tr>\n",
       "    <tr>\n",
       "      <th>4</th>\n",
       "      <td>A</td>\n",
       "      <td>36</td>\n",
       "    </tr>\n",
       "  </tbody>\n",
       "</table>\n",
       "</div>"
      ],
      "text/plain": [
       "  Group  Value\n",
       "0     A     37\n",
       "1     A     24\n",
       "2     A     90\n",
       "3     A     27\n",
       "4     A     36"
      ]
     },
     "execution_count": 10,
     "metadata": {},
     "output_type": "execute_result"
    }
   ],
   "source": [
    "print(\"\\nStratified Sample:\")\n",
    "stratified_sample.head()\n"
   ]
  },
  {
   "cell_type": "code",
   "execution_count": 11,
   "metadata": {},
   "outputs": [
    {
     "data": {
      "text/plain": [
       "C    20\n",
       "B    20\n",
       "A    20\n",
       "Name: Group, dtype: int64"
      ]
     },
     "execution_count": 11,
     "metadata": {},
     "output_type": "execute_result"
    }
   ],
   "source": [
    "stratified_sample['Group'].value_counts()"
   ]
  },
  {
   "cell_type": "code",
   "execution_count": 17,
   "metadata": {},
   "outputs": [
    {
     "data": {
      "image/png": "[encoded data removed]",
      "text/plain": [
       "<Figure size 432x288 with 1 Axes>"
      ]
     },
     "metadata": {
      "needs_background": "light"
     },
     "output_type": "display_data"
    }
   ],
   "source": [
    "\n",
    "# -----------------------------------------\n",
    "# 5. Central Limit Theorem\n",
    "# -----------------------------------------\n",
    "sample_means = [np.mean(np.random.choice(data, size=10)) for _ in range(1000000)]\n",
    "plt.hist(sample_means, bins=30, edgecolor='k', alpha=0.7)\n",
    "plt.title('Central Limit Theorem Demonstration')\n",
    "plt.xlabel('Sample Mean')\n",
    "plt.ylabel('Frequency')\n",
    "plt.show()\n"
   ]
  },
  {
   "cell_type": "code",
   "execution_count": null,
   "metadata": {},
   "outputs": [],
   "source": []
  },
  {
   "cell_type": "code",
   "execution_count": null,
   "metadata": {},
   "outputs": [],
   "source": [
    "\n",
    "# -----------------------------------------\n",
    "# 6. Correlation and Covariance\n",
    "# -----------------------------------------\n",
    "data_x = np.random.randint(10, 100, 100)\n",
    "data_y = 2 * data_x + np.random.randint(-10, 10, 100)\n",
    "correlation = np.corrcoef(data_x, data_y)[0, 1]\n",
    "covariance = np.cov(data_x, data_y)[0, 1]\n",
    "print(\"\\nCorrelation and Covariance:\")\n",
    "print(f\"Correlation: {correlation}\")\n",
    "print(f\"Covariance: {covariance}\")\n"
   ]
  },
  {
   "cell_type": "code",
   "execution_count": null,
   "metadata": {},
   "outputs": [],
   "source": [
    "\n",
    "# -----------------------------------------\n",
    "# 7. Linear Regression\n",
    "# -----------------------------------------\n",
    "model = LinearRegression()\n",
    "model.fit(data_x.reshape(-1, 1), data_y)\n",
    "print(\"\\nLinear Regression:\")\n",
    "print(f\"Regression Coefficient: {model.coef_[0]}\")\n",
    "print(f\"Intercept: {model.intercept_}\")\n"
   ]
  },
  {
   "cell_type": "code",
   "execution_count": null,
   "metadata": {},
   "outputs": [],
   "source": []
  }
 ],
 "metadata": {
  "kernelspec": {
   "display_name": "Python 3",
   "language": "python",
   "name": "python3"
  },
  "language_info": {
   "codemirror_mode": {
    "name": "ipython",
    "version": 3
   },
   "file_extension": ".py",
   "mimetype": "text/x-python",
   "name": "python",
   "nbconvert_exporter": "python",
   "pygments_lexer": "ipython3",
   "version": "3.8.5"
  }
 },
 "nbformat": 4,
 "nbformat_minor": 4
}
